{
 "cells": [
  {
   "cell_type": "code",
   "execution_count": 1,
   "metadata": {},
   "outputs": [
    {
     "name": "stdout",
     "output_type": "stream",
     "text": [
      "Hello world\n",
      "shell\n"
     ]
    }
   ],
   "source": [
    "print \"Hello world\"\n",
    "print \"shell\""
   ]
  },
  {
   "cell_type": "code",
   "execution_count": 2,
   "metadata": {
    "collapsed": true
   },
   "outputs": [],
   "source": [
    "#iterative statements\n",
    "#while\n",
    "#syntax\n",
    "\n",
    "#while <condition>:\n",
    "#  statement1\n",
    "#  statement2\n",
    "#  -\n",
    "#  -\n",
    "#  statementn\n",
    "# untill the condition fails all sttements in while loop loop are executed"
   ]
  },
  {
   "cell_type": "code",
   "execution_count": 3,
   "metadata": {},
   "outputs": [
    {
     "name": "stdout",
     "output_type": "stream",
     "text": [
      "hello world\n",
      "hello world\n",
      "hello world\n",
      "hello world\n",
      "hello world\n"
     ]
    }
   ],
   "source": [
    "a = 5\n",
    "i = 0\n",
    "while i<5:\n",
    "    print(\"hello world\")\n",
    "    i += 1"
   ]
  },
  {
   "cell_type": "code",
   "execution_count": 4,
   "metadata": {},
   "outputs": [
    {
     "name": "stdout",
     "output_type": "stream",
     "text": [
      "not prime\n"
     ]
    }
   ],
   "source": [
    "a = 15\n",
    "i = 1\n",
    "res = 0\n",
    "while i <= a:\n",
    "    if a%i == 0:\n",
    "        res += 1\n",
    "    i += 1\n",
    "if res == 2:\n",
    "    print(\"prime\")\n",
    "else:\n",
    "    print(\"not prime\")"
   ]
  },
  {
   "cell_type": "code",
   "execution_count": null,
   "metadata": {
    "collapsed": true
   },
   "outputs": [],
   "source": [
    "a = 15\n",
    "i = 1\n",
    "res = 0\n",
    "while i <= a:\n",
    "    if a%i == 0:\n",
    "        res += 1\n",
    "if res == 2:\n",
    "    print(\"prime\")\n",
    "else:\n",
    "    print(\"not prime\")"
   ]
  }
 ],
 "metadata": {
  "kernelspec": {
   "display_name": "Python 2",
   "language": "python",
   "name": "python2"
  },
  "language_info": {
   "codemirror_mode": {
    "name": "ipython",
    "version": 2
   },
   "file_extension": ".py",
   "mimetype": "text/x-python",
   "name": "python",
   "nbconvert_exporter": "python",
   "pygments_lexer": "ipython2",
   "version": "2.7.13"
  }
 },
 "nbformat": 4,
 "nbformat_minor": 2
}
