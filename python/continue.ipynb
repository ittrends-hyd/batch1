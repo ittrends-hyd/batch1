{
 "cells": [
  {
   "cell_type": "code",
   "execution_count": 1,
   "metadata": {},
   "outputs": [
    {
     "name": "stdout",
     "output_type": "stream",
     "text": [
      "10\n",
      "11\n",
      "going to start\n",
      "13\n",
      "14\n",
      "going to start\n",
      "16\n",
      "17\n",
      "going to start\n",
      "19\n"
     ]
    }
   ],
   "source": [
    "#continue\n",
    "#whenever python interpreter executes the continue statement, \n",
    "#it go to the start of the loop\n",
    "\n",
    "i = 10\n",
    "while i < 20:\n",
    "    if not i%3:\n",
    "        print(\"going to start\")\n",
    "        i += 1\n",
    "        continue\n",
    "    print(i)\n",
    "    i += 1"
   ]
  },
  {
   "cell_type": "code",
   "execution_count": null,
   "metadata": {
    "collapsed": true
   },
   "outputs": [],
   "source": []
  }
 ],
 "metadata": {
  "kernelspec": {
   "display_name": "Python 2",
   "language": "python",
   "name": "python2"
  },
  "language_info": {
   "codemirror_mode": {
    "name": "ipython",
    "version": 2
   },
   "file_extension": ".py",
   "mimetype": "text/x-python",
   "name": "python",
   "nbconvert_exporter": "python",
   "pygments_lexer": "ipython2",
   "version": "2.7.13"
  }
 },
 "nbformat": 4,
 "nbformat_minor": 2
}
